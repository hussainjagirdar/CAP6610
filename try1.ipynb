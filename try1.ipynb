{
 "cells": [
  {
   "cell_type": "code",
   "execution_count": 1,
   "metadata": {},
   "outputs": [],
   "source": [
    "import numpy as np\n",
    "dataset = np.loadtxt(\"train.data\", delimiter=\" \", dtype = int)"
   ]
  },
  {
   "cell_type": "code",
   "execution_count": 2,
   "metadata": {},
   "outputs": [
    {
     "data": {
      "text/plain": "array([[ 1,  1,  4],\n       [ 1,  2,  2],\n       [ 1,  3, 10],\n       [ 1,  4,  4],\n       [ 1,  5,  2],\n       [ 1,  6,  1],\n       [ 1,  7,  1],\n       [ 1,  8,  1],\n       [ 1,  9,  3],\n       [ 1, 10,  9]])"
     },
     "execution_count": 2,
     "metadata": {},
     "output_type": "execute_result"
    }
   ],
   "source": [
    "dataset[:10]"
   ]
  },
  {
   "cell_type": "code",
   "execution_count": 3,
   "metadata": {},
   "outputs": [],
   "source": [
    "vocab = np.loadtxt(\"vocabulary.csv\",delimiter = \",\",dtype = str)"
   ]
  },
  {
   "cell_type": "code",
   "execution_count": 6,
   "metadata": {},
   "outputs": [],
   "source": [
    "m = len(dataset)\n",
    "n = len(vocab)\n",
    "X = [[0]*n]*m"
   ]
  },
  {
   "cell_type": "code",
   "execution_count": 13,
   "metadata": {},
   "outputs": [
    {
     "name": "stdout",
     "output_type": "stream",
     "text": "0 750 1\n0 751 1\n0 752 1\n0 753 1\n0 754 1\n0 755 1\n0 756 1\n0 757 1\n0 758 1\n0 759 1\n0 760 1\n0 761 1\n0 762 1\n0 763 1\n0 764 1\n0 765 1\n0 766 1\n0 767 1\n0 768 1\n0 11 1\n0 15 1\n0 22 1\n0 26 1\n0 28 1\n0 29 1\n0 32 1\n0 38 1\n0 41 1\n0 43 1\n0 50 1\n0 51 1\n0 59 1\n0 83 1\n0 138 1\n0 143 1\n0 232 1\n0 233 1\n0 234 1\n0 276 1\n0 296 1\n0 298 1\n0 303 1\n0 309 1\n0 339 1\n0 367 1\n0 459 1\n0 472 1\n0 491 1\n0 535 1\n"
    }
   ],
   "source": [
    "count = 0\n",
    "for i in range(m):\n",
    "    row = dataset[i][0]-1\n",
    "    col = dataset[i][1]-1\n",
    "    count += 1\n",
    "    X[row][col] = 1\n",
    "    if 750< count <800:\n",
    "        print(0, col, X[0][col])\n",
    "\n",
    "    "
   ]
  },
  {
   "cell_type": "code",
   "execution_count": null,
   "metadata": {},
   "outputs": [],
   "source": []
  }
 ],
 "metadata": {
  "kernelspec": {
   "display_name": "Python 3",
   "language": "python",
   "name": "python3"
  },
  "language_info": {
   "codemirror_mode": {
    "name": "ipython",
    "version": 3
   },
   "file_extension": ".py",
   "mimetype": "text/x-python",
   "name": "python",
   "nbconvert_exporter": "python",
   "pygments_lexer": "ipython3",
   "version": "3.8.0-final"
  }
 },
 "nbformat": 4,
 "nbformat_minor": 4
}